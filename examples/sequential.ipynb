{
 "cells": [
  {
   "cell_type": "markdown",
   "metadata": {
    "tags": []
   },
   "source": [
    "# Tabular Model: sequential data, with context"
   ]
  },
  {
   "cell_type": "markdown",
   "metadata": {},
   "source": [
    "[![Open in Colab](https://colab.research.google.com/assets/colab-badge.svg)](https://colab.research.google.com/github/mostly-ai/mostlyai-engine/blob/main/examples/sequential.ipynb)"
   ]
  },
  {
   "cell_type": "code",
   "execution_count": 40,
   "metadata": {
    "tags": []
   },
   "outputs": [
    {
     "data": {
      "text/html": [
       "<div>\n",
       "<style scoped>\n",
       "    .dataframe tbody tr th:only-of-type {\n",
       "        vertical-align: middle;\n",
       "    }\n",
       "\n",
       "    .dataframe tbody tr th {\n",
       "        vertical-align: top;\n",
       "    }\n",
       "\n",
       "    .dataframe thead th {\n",
       "        text-align: right;\n",
       "    }\n",
       "</style>\n",
       "<table border=\"1\" class=\"dataframe\">\n",
       "  <thead>\n",
       "    <tr style=\"text-align: right;\">\n",
       "      <th></th>\n",
       "      <th>id</th>\n",
       "      <th>country</th>\n",
       "      <th>birthDate</th>\n",
       "      <th>deathDate</th>\n",
       "      <th>nameFirst</th>\n",
       "      <th>nameLast</th>\n",
       "      <th>weight</th>\n",
       "      <th>height</th>\n",
       "      <th>bats</th>\n",
       "      <th>throws</th>\n",
       "    </tr>\n",
       "  </thead>\n",
       "  <tbody>\n",
       "    <tr>\n",
       "      <th>0</th>\n",
       "      <td>aardsda01</td>\n",
       "      <td>USA</td>\n",
       "      <td>1981-12-27</td>\n",
       "      <td>NaN</td>\n",
       "      <td>David</td>\n",
       "      <td>Aardsma</td>\n",
       "      <td>215.0</td>\n",
       "      <td>75.0</td>\n",
       "      <td>R</td>\n",
       "      <td>R</td>\n",
       "    </tr>\n",
       "  </tbody>\n",
       "</table>\n",
       "</div>"
      ],
      "text/plain": [
       "          id country   birthDate deathDate nameFirst nameLast  weight  height  \\\n",
       "0  aardsda01     USA  1981-12-27       NaN     David  Aardsma   215.0    75.0   \n",
       "\n",
       "  bats throws  \n",
       "0    R      R  "
      ]
     },
     "metadata": {},
     "output_type": "display_data"
    },
    {
     "data": {
      "text/html": [
       "<div>\n",
       "<style scoped>\n",
       "    .dataframe tbody tr th:only-of-type {\n",
       "        vertical-align: middle;\n",
       "    }\n",
       "\n",
       "    .dataframe tbody tr th {\n",
       "        vertical-align: top;\n",
       "    }\n",
       "\n",
       "    .dataframe thead th {\n",
       "        text-align: right;\n",
       "    }\n",
       "</style>\n",
       "<table border=\"1\" class=\"dataframe\">\n",
       "  <thead>\n",
       "    <tr style=\"text-align: right;\">\n",
       "      <th></th>\n",
       "      <th>players_id</th>\n",
       "      <th>year</th>\n",
       "    </tr>\n",
       "  </thead>\n",
       "  <tbody>\n",
       "    <tr>\n",
       "      <th>0</th>\n",
       "      <td>aardsda01</td>\n",
       "      <td>2023-01-01 10:00:00</td>\n",
       "    </tr>\n",
       "    <tr>\n",
       "      <th>1</th>\n",
       "      <td>aardsda01</td>\n",
       "      <td>2024-01-01 10:00:00</td>\n",
       "    </tr>\n",
       "    <tr>\n",
       "      <th>2</th>\n",
       "      <td>aardsda01</td>\n",
       "      <td>2024-01-01 10:30:00</td>\n",
       "    </tr>\n",
       "    <tr>\n",
       "      <th>3</th>\n",
       "      <td>aardsda01</td>\n",
       "      <td>NaN</td>\n",
       "    </tr>\n",
       "    <tr>\n",
       "      <th>4</th>\n",
       "      <td>aardsda01</td>\n",
       "      <td>2024-01-01 20:00:00</td>\n",
       "    </tr>\n",
       "    <tr>\n",
       "      <th>5</th>\n",
       "      <td>aardsda01</td>\n",
       "      <td>2024-01-02 20:00:00</td>\n",
       "    </tr>\n",
       "    <tr>\n",
       "      <th>6</th>\n",
       "      <td>aardsda01</td>\n",
       "      <td>2024-01-02 23:03:03</td>\n",
       "    </tr>\n",
       "    <tr>\n",
       "      <th>7</th>\n",
       "      <td>aardsda01</td>\n",
       "      <td>NaN</td>\n",
       "    </tr>\n",
       "    <tr>\n",
       "      <th>8</th>\n",
       "      <td>aardsda01</td>\n",
       "      <td>2024-01-12 23:03:03</td>\n",
       "    </tr>\n",
       "  </tbody>\n",
       "</table>\n",
       "</div>"
      ],
      "text/plain": [
       "  players_id                 year\n",
       "0  aardsda01  2023-01-01 10:00:00\n",
       "1  aardsda01  2024-01-01 10:00:00\n",
       "2  aardsda01  2024-01-01 10:30:00\n",
       "3  aardsda01                  NaN\n",
       "4  aardsda01  2024-01-01 20:00:00\n",
       "5  aardsda01  2024-01-02 20:00:00\n",
       "6  aardsda01  2024-01-02 23:03:03\n",
       "7  aardsda01                  NaN\n",
       "8  aardsda01  2024-01-12 23:03:03"
      ]
     },
     "metadata": {},
     "output_type": "display_data"
    }
   ],
   "source": [
    "from pathlib import Path\n",
    "import pandas as pd\n",
    "import numpy as np\n",
    "from mostlyai import engine\n",
    "\n",
    "# init workspace and logging\n",
    "ws = Path(\"ws-tabular-sequential\")\n",
    "engine.init_logging()\n",
    "\n",
    "# load original data\n",
    "url = \"https://github.com/mostly-ai/public-demo-data/raw/refs/heads/dev/baseball\"\n",
    "trn_ctx_df = pd.read_csv(f\"{url}/players.csv.gz\")  # context data\n",
    "trn_tgt_df = pd.read_csv(f\"{url}/batting.csv.gz\")[[\"players_id\", \"year\"]]  # target data\n",
    "trn_tgt_df[\"year\"] = trn_tgt_df[\"year\"].apply(lambda x: str(x) + \"-01-01\")\n",
    "trn_ctx_df = trn_ctx_df[trn_ctx_df[\"id\"] == \"aardsda01\"]\n",
    "trn_tgt_df = trn_tgt_df[trn_tgt_df[\"players_id\"] == \"aardsda01\"]\n",
    "trn_tgt_df[\"year\"] = pd.Series([\"2023-01-01 10:00:00\", \"2024-01-01 10:00:00\", \"2024-01-01 10:30:00\", np.nan, \"2024-01-01 20:00:00\", \"2024-01-02 20:00:00\", \"2024-01-02 23:03:03\", np.nan, \"2024-01-12 23:03:03\"])\n",
    "display(trn_ctx_df)\n",
    "display(trn_tgt_df)\n"
   ]
  },
  {
   "cell_type": "code",
   "execution_count": 41,
   "metadata": {
    "tags": []
   },
   "outputs": [
    {
     "name": "stdout",
     "output_type": "stream",
     "text": [
      "[2025-10-09 17:37:44,480] INFO   : SPLIT started\n",
      "[2025-10-09 17:37:44,481] INFO   : clean `ws-tabular-sequential/OriginalData/tgt-data`\n",
      "[2025-10-09 17:37:44,482] INFO   : clean `ws-tabular-sequential/OriginalData/tgt-meta`\n",
      "[2025-10-09 17:37:44,483] INFO   : clean `ws-tabular-sequential/OriginalData/ctx-data`\n",
      "[2025-10-09 17:37:44,483] INFO   : clean `ws-tabular-sequential/OriginalData/ctx-meta`\n",
      "[2025-10-09 17:37:44,484] INFO   : model_type='TABULAR'\n",
      "[2025-10-09 17:37:44,484] INFO   : tgt_encoding_types={'year': 'TABULAR_DATETIME_RELATIVE'}\n",
      "[2025-10-09 17:37:44,484] INFO   : ctx_encoding_types={'country': 'TABULAR_CATEGORICAL', 'birthDate': 'TABULAR_CATEGORICAL', 'deathDate': 'TABULAR_CATEGORICAL', 'nameFirst': 'TABULAR_CATEGORICAL', 'nameLast': 'TABULAR_CATEGORICAL', 'weight': 'TABULAR_NUMERIC_AUTO', 'height': 'TABULAR_NUMERIC_AUTO', 'bats': 'TABULAR_CATEGORICAL', 'throws': 'TABULAR_CATEGORICAL'}\n",
      "[2025-10-09 17:37:44,490] INFO   : SPLIT finished in 0.01s\n",
      "[2025-10-09 17:37:44,490] INFO   : ANALYZE started\n",
      "[2025-10-09 17:37:44,491] INFO   : clean `ws-tabular-sequential/ModelStore/tgt-stats`\n",
      "[2025-10-09 17:37:44,491] INFO   : clean `ws-tabular-sequential/ModelStore/ctx-stats`\n",
      "[2025-10-09 17:37:44,492] INFO   : analyzing 2 partitions in parallel\n",
      "[2025-10-09 17:37:47,511] INFO   : analyzed target partition 000000-trn (9, 2)\n",
      "[2025-10-09 17:37:50,026] INFO   : analyzed context partition 000000-trn (1, 10)\n",
      "[2025-10-09 17:37:50,044] INFO   : analyzed target partition 000000-val (0, 2)\n",
      "[2025-10-09 17:37:52,076] INFO   : analyzed context partition 000000-val (0, 10)\n",
      "[2025-10-09 17:37:52,076] INFO   : combine partition statistics\n",
      "[2025-10-09 17:37:52,077] INFO   : value_protection = False\n",
      "[2025-10-09 17:37:52,078] INFO   : analyzed column `year`: TABULAR_DATETIME_RELATIVE {'nan': 2, 'start_year': 1, 'start_month': 1, 'start_day': 1, 'start_hour': 1, 'start_minute': 1, 'start_second': 1, 'itt_week': 53, 'itt_day': 4, 'itt_hour': 10, 'itt_minute': 31, 'itt_second': 4}\n",
      "[2025-10-09 17:37:52,078] INFO   : analyzed 1 records: 1 training / 0 validation\n",
      "[2025-10-09 17:37:52,078] INFO   : is_sequential: True\n",
      "[2025-10-09 17:37:52,078] INFO   : write statistics to `ws-tabular-sequential/ModelStore/tgt-stats/stats.json`\n",
      "[2025-10-09 17:37:52,081] INFO   : n_ctxseq_tables = 0\n",
      "[2025-10-09 17:37:52,082] INFO   : value_protection = False\n",
      "[2025-10-09 17:37:52,082] INFO   : analyzed column `country`: TABULAR_CATEGORICAL {'cat': 2}\n",
      "[2025-10-09 17:37:52,082] INFO   : analyzed column `birthDate`: TABULAR_CATEGORICAL {'cat': 2}\n",
      "[2025-10-09 17:37:52,082] INFO   : analyzed column `deathDate`: TABULAR_CATEGORICAL {'cat': 2}\n",
      "[2025-10-09 17:37:52,082] INFO   : analyzed column `nameFirst`: TABULAR_CATEGORICAL {'cat': 2}\n",
      "[2025-10-09 17:37:52,082] INFO   : analyzed column `nameLast`: TABULAR_CATEGORICAL {'cat': 2}\n",
      "[2025-10-09 17:37:52,083] INFO   : analyzed column `weight`: TABULAR_NUMERIC_DISCRETE {'cat': 2}\n",
      "[2025-10-09 17:37:52,083] INFO   : analyzed column `height`: TABULAR_NUMERIC_DISCRETE {'cat': 2}\n",
      "[2025-10-09 17:37:52,083] INFO   : analyzed column `bats`: TABULAR_CATEGORICAL {'cat': 2}\n",
      "[2025-10-09 17:37:52,083] INFO   : analyzed column `throws`: TABULAR_CATEGORICAL {'cat': 2}\n",
      "[2025-10-09 17:37:52,083] INFO   : write statistics to `ws-tabular-sequential/ModelStore/ctx-stats/stats.json`\n",
      "[2025-10-09 17:37:52,085] INFO   : ANALYZE finished in 7.59s\n",
      "[2025-10-09 17:37:52,085] INFO   : ENCODE_TABULAR started\n",
      "[2025-10-09 17:37:52,086] INFO   : clean `ws-tabular-sequential/OriginalData/encoded-data`\n",
      "[2025-10-09 17:37:52,086] INFO   : clean `ws-tabular-sequential/OriginalData/encoded-data`\n",
      "[2025-10-09 17:37:52,087] INFO   : clean `ws-tabular-sequential/OriginalData/encoded-data`\n",
      "[2025-10-09 17:37:52,138] INFO   : encoded partition part.000000-trn.parquet (1, 24)\n",
      "[2025-10-09 17:37:54,413] INFO   : ENCODE_TABULAR finished in 2.33s\n"
     ]
    }
   ],
   "source": [
    "# execute the engine steps\n",
    "engine.split(                         # split data as PQT files for `trn` + `val` to `{ws}/OriginalData/(tgt|ctx)-data`\n",
    "  workspace_dir=ws,\n",
    "  tgt_data=trn_tgt_df,\n",
    "  ctx_data=trn_ctx_df,\n",
    "  tgt_context_key=\"players_id\",\n",
    "  ctx_primary_key=\"id\",\n",
    "  model_type=\"TABULAR\",\n",
    "  tgt_encoding_types={\"year\": \"TABULAR_DATETIME_RELATIVE\"},\n",
    ")\n",
    "engine.analyze(workspace_dir=ws, value_protection=False)      # generate column-level statistics to `{ws}/ModelStore/(tgt|ctx)-data/stats.json`\n",
    "engine.encode(workspace_dir=ws)       # encode training data to `{ws}/OriginalData/encoded-data`"
   ]
  },
  {
   "cell_type": "code",
   "execution_count": 42,
   "metadata": {},
   "outputs": [],
   "source": [
    "encoded_df = pd.read_parquet(ws / \"OriginalData\" / \"encoded-data\")\n",
    "itt_columns = [c for c in encoded_df if c.startswith(\"tgt:t0/c0\")]"
   ]
  },
  {
   "cell_type": "code",
   "execution_count": 43,
   "metadata": {},
   "outputs": [
    {
     "data": {
      "text/plain": [
       "ctxflt:t0/c0__cat                                         1\n",
       "ctxflt:t1/c1__cat                                         1\n",
       "ctxflt:t2/c2__cat                                         1\n",
       "ctxflt:t3/c3__cat                                         1\n",
       "ctxflt:t4/c4__cat                                         1\n",
       "ctxflt:t5/c5__cat                                         1\n",
       "ctxflt:t6/c6__cat                                         1\n",
       "ctxflt:t7/c7__cat                                         1\n",
       "ctxflt:t8/c8__cat                                         1\n",
       "tgt:/__sidx_cat              [0, 1, 2, 3, 4, 5, 6, 7, 8, 9]\n",
       "tgt:/__slen_cat              [9, 9, 9, 9, 9, 9, 9, 9, 9, 9]\n",
       "tgt:/__ridx_cat              [9, 8, 7, 6, 5, 4, 3, 2, 1, 0]\n",
       "tgt:t0/c0__nan               [0, 0, 0, 1, 0, 0, 0, 1, 0, 0]\n",
       "tgt:t0/c0__start_year        [0, 0, 0, 0, 0, 0, 0, 0, 0, 0]\n",
       "tgt:t0/c0__start_month       [0, 0, 0, 0, 0, 0, 0, 0, 0, 0]\n",
       "tgt:t0/c0__start_day         [0, 0, 0, 0, 0, 0, 0, 0, 0, 0]\n",
       "tgt:t0/c0__start_hour        [0, 0, 0, 0, 0, 0, 0, 0, 0, 0]\n",
       "tgt:t0/c0__start_minute      [0, 0, 0, 0, 0, 0, 0, 0, 0, 0]\n",
       "tgt:t0/c0__start_second      [0, 0, 0, 0, 0, 0, 0, 0, 0, 0]\n",
       "tgt:t0/c0__itt_week         [0, 52, 0, 0, 0, 0, 0, 0, 1, 0]\n",
       "tgt:t0/c0__itt_day           [0, 1, 0, 0, 0, 1, 0, 0, 3, 0]\n",
       "tgt:t0/c0__itt_hour          [0, 0, 0, 0, 9, 0, 3, 0, 0, 0]\n",
       "tgt:t0/c0__itt_minute      [0, 0, 30, 0, 30, 0, 3, 0, 0, 0]\n",
       "tgt:t0/c0__itt_second        [0, 0, 0, 0, 0, 0, 3, 0, 0, 0]\n",
       "Name: 0, dtype: object"
      ]
     },
     "execution_count": 43,
     "metadata": {},
     "output_type": "execute_result"
    }
   ],
   "source": [
    "encoded_df.iloc[0]"
   ]
  },
  {
   "cell_type": "code",
   "execution_count": null,
   "metadata": {
    "tags": []
   },
   "outputs": [],
   "source": [
    "engine.train(                         # train model and store to `{ws}/ModelStore/model-data`\n",
    "    workspace_dir=ws,\n",
    "    max_training_time=2,              # limit TRAIN to 2 minute for demo purposes\n",
    ")\n",
    "engine.generate(workspace_dir=ws)     # use model to generate synthetic samples to `{ws}/SyntheticData`"
   ]
  },
  {
   "cell_type": "code",
   "execution_count": null,
   "metadata": {},
   "outputs": [],
   "source": [
    "# load synthetic data\n",
    "syn_tgt_df = pd.read_parquet(ws / \"SyntheticData\")\n",
    "syn_tgt_df.head(5)"
   ]
  },
  {
   "cell_type": "markdown",
   "metadata": {},
   "source": [
    "### QUALITY ASSURANCE"
   ]
  },
  {
   "cell_type": "markdown",
   "metadata": {},
   "source": [
    "#### sequence lengths"
   ]
  },
  {
   "cell_type": "code",
   "execution_count": null,
   "metadata": {
    "tags": []
   },
   "outputs": [],
   "source": [
    "trn_seq_lens = trn_tgt_df.groupby(\"players_id\").size()\n",
    "syn_seq_lens = syn_tgt_df.groupby(\"players_id\").size()"
   ]
  },
  {
   "cell_type": "code",
   "execution_count": null,
   "metadata": {},
   "outputs": [],
   "source": [
    "print(\"tgt: \", np.quantile(trn_seq_lens, np.arange(0, 1.1, 0.1), method=\"inverted_cdf\"))\n",
    "print(\"syn: \", np.quantile(syn_seq_lens, np.arange(0, 1.1, 0.1), method=\"inverted_cdf\"))"
   ]
  },
  {
   "cell_type": "markdown",
   "metadata": {
    "tags": []
   },
   "source": [
    "#### coherence"
   ]
  },
  {
   "cell_type": "code",
   "execution_count": null,
   "metadata": {},
   "outputs": [],
   "source": [
    "syn_avg_teams_per_player = syn_tgt_df.groupby(\"players_id\")[\"team\"].nunique().mean().round(1)\n",
    "trn_avg_teams_per_player = trn_tgt_df.groupby(\"players_id\")[\"team\"].nunique().mean().round(1)\n",
    "syn_avg_teams_per_player, trn_avg_teams_per_player"
   ]
  }
 ],
 "metadata": {
  "kernelspec": {
   "display_name": "Python 3 (ipykernel)",
   "language": "python",
   "name": "python3"
  },
  "language_info": {
   "codemirror_mode": {
    "name": "ipython",
    "version": 3
   },
   "file_extension": ".py",
   "mimetype": "text/x-python",
   "name": "python",
   "nbconvert_exporter": "python",
   "pygments_lexer": "ipython3",
   "version": "3.11.7"
  },
  "toc": {
   "base_numbering": 1,
   "nav_menu": {},
   "number_sections": false,
   "sideBar": true,
   "skip_h1_title": false,
   "title_cell": "Table of Contents",
   "title_sidebar": "Contents",
   "toc_cell": false,
   "toc_position": {},
   "toc_section_display": true,
   "toc_window_display": false
  }
 },
 "nbformat": 4,
 "nbformat_minor": 4
}
