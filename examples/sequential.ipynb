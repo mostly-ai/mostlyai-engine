{
 "cells": [
  {
   "cell_type": "markdown",
   "metadata": {
    "tags": []
   },
   "source": [
    "# Tabular Model: sequential data, with context"
   ]
  },
  {
   "cell_type": "markdown",
   "metadata": {},
   "source": [
    "[![Open in Colab](https://colab.research.google.com/assets/colab-badge.svg)](https://colab.research.google.com/github/mostly-ai/mostlyai-engine/blob/main/examples/sequential.ipynb)"
   ]
  },
  {
   "cell_type": "code",
   "execution_count": null,
   "metadata": {
    "tags": []
   },
   "outputs": [],
   "source": [
    "from pathlib import Path\n",
    "import pandas as pd\n",
    "import numpy as np\n",
    "from mostlyai import engine\n",
    "\n",
    "# init workspace and logging\n",
    "ws = Path(\"ws-tabular-sequential\")\n",
    "engine.init_logging()\n",
    "\n",
    "# load original data\n",
    "url = \"https://github.com/mostly-ai/public-demo-data/raw/refs/heads/dev/baseball\"\n",
    "trn_ctx_df = pd.read_csv(f\"{url}/players.csv.gz\")  # context data\n",
    "trn_tgt_df = pd.read_csv(f\"{url}/batting.csv.gz\")  # target data\n",
    "\n",
    "# execute the engine steps\n",
    "engine.split(                         # split data as PQT files for `trn` + `val` to `{ws}/OriginalData/(tgt|ctx)-data`\n",
    "  workspace_dir=ws,\n",
    "  tgt_data=trn_tgt_df,\n",
    "  ctx_data=trn_ctx_df,\n",
    "  tgt_context_key=\"players_id\",\n",
    "  ctx_primary_key=\"id\",\n",
    "  model_type=\"TABULAR\",\n",
    ")\n",
    "engine.analyze(workspace_dir=ws)      # generate column-level statistics to `{ws}/ModelStore/(tgt|ctx)-data/stats.json`\n",
    "engine.encode(workspace_dir=ws)       # encode training data to `{ws}/OriginalData/encoded-data`\n",
    "engine.train(                         # train model and store to `{ws}/ModelStore/model-data`\n",
    "    workspace_dir=ws,\n",
    "    max_training_time=2,              # limit TRAIN to 2 minute for demo purposes\n",
    ")\n",
    "engine.generate(workspace_dir=ws)     # use model to generate synthetic samples to `{ws}/SyntheticData`"
   ]
  },
  {
   "cell_type": "code",
   "execution_count": null,
   "metadata": {},
   "outputs": [],
   "source": [
    "# load synthetic data\n",
    "syn_tgt_df = pd.read_parquet(ws / \"SyntheticData\")\n",
    "syn_tgt_df.head(5)"
   ]
  },
  {
   "cell_type": "markdown",
   "metadata": {},
   "source": [
    "### QUALITY ASSURANCE"
   ]
  },
  {
   "cell_type": "markdown",
   "metadata": {},
   "source": [
    "#### sequence lengths"
   ]
  },
  {
   "cell_type": "code",
   "execution_count": null,
   "metadata": {
    "tags": []
   },
   "outputs": [],
   "source": [
    "trn_seq_lens = trn_tgt_df.groupby(\"players_id\").size()\n",
    "syn_seq_lens = syn_tgt_df.groupby(\"players_id\").size()"
   ]
  },
  {
   "cell_type": "code",
   "execution_count": null,
   "metadata": {},
   "outputs": [],
   "source": [
    "print(\"tgt: \", np.quantile(trn_seq_lens, np.arange(0, 1.1, 0.1), method=\"inverted_cdf\"))\n",
    "print(\"syn: \", np.quantile(syn_seq_lens, np.arange(0, 1.1, 0.1), method=\"inverted_cdf\"))"
   ]
  },
  {
   "cell_type": "markdown",
   "metadata": {
    "tags": []
   },
   "source": [
    "#### coherence"
   ]
  },
  {
   "cell_type": "code",
   "execution_count": null,
   "metadata": {},
   "outputs": [],
   "source": [
    "syn_avg_teams_per_player = syn_tgt_df.groupby(\"players_id\")[\"team\"].nunique().mean().round(1)\n",
    "trn_avg_teams_per_player = trn_tgt_df.groupby(\"players_id\")[\"team\"].nunique().mean().round(1)\n",
    "syn_avg_teams_per_player, trn_avg_teams_per_player"
   ]
  }
 ],
 "metadata": {
  "kernelspec": {
   "display_name": "Python 3 (ipykernel)",
   "language": "python",
   "name": "python3"
  },
  "language_info": {
   "codemirror_mode": {
    "name": "ipython",
    "version": 3
   },
   "file_extension": ".py",
   "mimetype": "text/x-python",
   "name": "python",
   "nbconvert_exporter": "python",
   "pygments_lexer": "ipython3",
   "version": "3.12.3"
  },
  "toc": {
   "base_numbering": 1,
   "nav_menu": {},
   "number_sections": false,
   "sideBar": true,
   "skip_h1_title": false,
   "title_cell": "Table of Contents",
   "title_sidebar": "Contents",
   "toc_cell": false,
   "toc_position": {},
   "toc_section_display": true,
   "toc_window_display": false
  }
 },
 "nbformat": 4,
 "nbformat_minor": 4
}
