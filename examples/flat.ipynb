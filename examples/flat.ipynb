{
 "cells": [
  {
   "cell_type": "markdown",
   "metadata": {
    "tags": []
   },
   "source": [
    "# Tabular Model: flat data, without context"
   ]
  },
  {
   "cell_type": "markdown",
   "metadata": {},
   "source": [
    "[![Open in Colab](https://colab.research.google.com/assets/colab-badge.svg)](https://colab.research.google.com/github/mostly-ai/mostlyai-engine/blob/main/examples/flat.ipynb)"
   ]
  },
  {
   "cell_type": "code",
   "execution_count": 106,
   "metadata": {},
   "outputs": [
    {
     "data": {
      "text/plain": [
       "neighbourhood_group                                       Brooklyn\n",
       "neighbourhood                                          Sunset Park\n",
       "room_type                                          Entire home/apt\n",
       "price                                                          100\n",
       "minimum_nights                                                   2\n",
       "number_of_reviews                                               37\n",
       "last_review                                             2019-07-07\n",
       "reviews_per_month                                             3.22\n",
       "availability_365                                                 0\n",
       "latitude                                                 -0.079099\n",
       "longitude                                                 -0.05618\n",
       "LAT_LONG               -0.07909888066264159, -0.056180385315471426\n",
       "Name: 300, dtype: object"
      ]
     },
     "execution_count": 106,
     "metadata": {},
     "output_type": "execute_result"
    }
   ],
   "source": [
    "from pathlib import Path\n",
    "import numpy as np\n",
    "import pandas as pd\n",
    "from mostlyai import engine\n",
    "\n",
    "# init workspace and logging\n",
    "ws = Path(\"ws-initonly-airbnbF\")\n",
    "engine.init_logging()\n",
    "\n",
    "# load original data\n",
    "# url = \"https://github.com/mostly-ai/public-demo-data/raw/refs/heads/dev/census\"\n",
    "# trn_df = pd.read_csv(f\"{url}/census.csv.gz\")\n",
    "trn_df = pd.read_csv(\"~/Downloads/airbnb.csv.gz\")\n",
    "trn_df[\"latitude\"] = trn_df[\"latitude\"] - trn_df[\"latitude\"].mean()\n",
    "trn_df[\"longitude\"] = trn_df[\"longitude\"] - trn_df[\"longitude\"].mean()\n",
    "trn_df[\"LAT_LONG\"] = trn_df[\"latitude\"].astype(str) + \", \" + trn_df[\"longitude\"].astype(str)\n",
    "# trn_df = trn_df.drop(columns=[\"latitude\", \"longitude\"])\n",
    "# trn_df = trn_df[[\"neighbourhood_group\", \"neighbourhood\", \"LAT_LONG\"]].head(500)\n",
    "trn_df = trn_df.head(500)\n",
    "trn_df.loc[:200, \"LAT_LONG\"] = np.nan\n",
    "trn_df.iloc[300]"
   ]
  },
  {
   "cell_type": "code",
   "execution_count": 107,
   "metadata": {},
   "outputs": [],
   "source": [
    "# trn_df[[\"neighbourhood_group\", \"neighbourhood\", \"LAT_LONG\"]].to_parquet(\"~/Downloads/airbnb-locations.parquet\")"
   ]
  },
  {
   "cell_type": "code",
   "execution_count": 108,
   "metadata": {},
   "outputs": [
    {
     "name": "stdout",
     "output_type": "stream",
     "text": [
      "[2025-10-10 13:26:00,574] INFO   : SPLIT started\n",
      "[2025-10-10 13:26:00,575] INFO   : clean `ws-initonly-airbnbF/OriginalData/tgt-data`\n",
      "[2025-10-10 13:26:00,579] INFO   : clean `ws-initonly-airbnbF/OriginalData/tgt-meta`\n",
      "[2025-10-10 13:26:00,581] INFO   : model_type='TABULAR'\n",
      "[2025-10-10 13:26:00,582] INFO   : tgt_encoding_types={'neighbourhood_group': 'TABULAR_CATEGORICAL', 'neighbourhood': 'TABULAR_CATEGORICAL', 'LAT_LONG': 'TABULAR_LAT_LONG'}\n",
      "[2025-10-10 13:26:00,592] INFO   : SPLIT finished in 0.02s\n",
      "[2025-10-10 13:26:00,592] INFO   : ANALYZE started\n",
      "[2025-10-10 13:26:00,594] INFO   : clean `ws-initonly-airbnbF/ModelStore/tgt-stats`\n",
      "[2025-10-10 13:26:00,595] INFO   : analyzing 2 partitions in parallel\n",
      "[2025-10-10 13:26:03,648] INFO   : analyzed target partition 000000-trn (400, 3)\n",
      "[2025-10-10 13:26:05,729] INFO   : analyzed target partition 000000-val (100, 3)\n",
      "[2025-10-10 13:26:05,730] INFO   : combine partition statistics\n",
      "[2025-10-10 13:26:05,731] INFO   : value_protection = False\n",
      "[2025-10-10 13:26:05,731] INFO   : analyzed column `neighbourhood_group`: TABULAR_CATEGORICAL {'cat': 6}\n",
      "[2025-10-10 13:26:05,732] INFO   : analyzed column `neighbourhood`: TABULAR_CATEGORICAL {'cat': 93}\n",
      "[2025-10-10 13:26:05,732] INFO   : analyzed column `LAT_LONG`: TABULAR_LAT_LONG {'QUAD16': 6, 'P0': 2, 'P1': 2, 'P2': 1, 'P3': 1, 'P4': 1, 'P5': 1, 'P6': 1, 'P7': 1, 'P8': 1, 'P9': 1, 'P10': 1, 'P11': 1, 'P12': 1, 'P13': 1, 'P14': 1, 'P15': 4, 'P16': 4, 'P17': 4, 'P18': 4, 'P19': 4, 'P20': 4, 'P21': 4, 'P22': 4, 'P23': 4, 'P24': 4, 'P25': 4, 'P26': 4, 'P27': 4, 'P28': 4, 'P29': 4, 'nan': 2}\n",
      "[2025-10-10 13:26:05,733] INFO   : analyzed 500 records: 400 training / 100 validation\n",
      "[2025-10-10 13:26:05,733] INFO   : is_sequential: False\n",
      "[2025-10-10 13:26:05,733] INFO   : write statistics to `ws-initonly-airbnbF/ModelStore/tgt-stats/stats.json`\n",
      "[2025-10-10 13:26:05,735] INFO   : ANALYZE finished in 5.14s\n",
      "[2025-10-10 13:26:05,735] INFO   : ENCODE_TABULAR started\n",
      "[2025-10-10 13:26:05,736] INFO   : clean `ws-initonly-airbnbF/OriginalData/encoded-data`\n",
      "[2025-10-10 13:26:05,736] INFO   : clean `ws-initonly-airbnbF/OriginalData/encoded-data`\n",
      "[2025-10-10 13:26:05,737] INFO   : clean `ws-initonly-airbnbF/OriginalData/encoded-data`\n",
      "[2025-10-10 13:26:07,792] INFO   : encoded partition part.000000-trn.parquet (400, 34)\n",
      "[2025-10-10 13:26:09,960] INFO   : encoded partition part.000000-val.parquet (100, 34)\n",
      "[2025-10-10 13:26:09,961] INFO   : ENCODE_TABULAR finished in 4.23s\n"
     ]
    }
   ],
   "source": [
    "# execute the engine steps\n",
    "engine.split(                         # split data as PQT files for `trn` + `val` to `{ws}/OriginalData/tgt-data`\n",
    "  workspace_dir=ws,\n",
    "  tgt_data=trn_df[[\"neighbourhood_group\", \"neighbourhood\", \"LAT_LONG\"]],\n",
    "  model_type=\"TABULAR\",\n",
    "  tgt_encoding_types={'neighbourhood_group': 'TABULAR_CATEGORICAL', 'neighbourhood': 'TABULAR_CATEGORICAL', 'LAT_LONG': 'TABULAR_LAT_LONG'},\n",
    ")\n",
    "engine.analyze(workspace_dir=ws, value_protection=False)      # generate column-level statistics to `{ws}/ModelData/tgt-stats/stats.json`\n",
    "engine.encode(workspace_dir=ws)       # encode training data to `{ws}/OriginalData/encoded-data`"
   ]
  },
  {
   "cell_type": "code",
   "execution_count": 112,
   "metadata": {},
   "outputs": [
    {
     "data": {
      "text/plain": [
       "tgt:t0/c0__cat        2\n",
       "tgt:t1/c1__cat       10\n",
       "tgt:t2/c2__QUAD16     0\n",
       "tgt:t2/c2__P0         0\n",
       "tgt:t2/c2__P1         0\n",
       "tgt:t2/c2__P2         0\n",
       "tgt:t2/c2__P3         0\n",
       "tgt:t2/c2__P4         0\n",
       "tgt:t2/c2__P5         0\n",
       "tgt:t2/c2__P6         0\n",
       "tgt:t2/c2__P7         0\n",
       "tgt:t2/c2__P8         0\n",
       "tgt:t2/c2__P9         0\n",
       "tgt:t2/c2__P10        0\n",
       "tgt:t2/c2__P11        0\n",
       "tgt:t2/c2__P12        0\n",
       "tgt:t2/c2__P13        0\n",
       "tgt:t2/c2__P14        0\n",
       "tgt:t2/c2__P15        0\n",
       "tgt:t2/c2__P16        0\n",
       "tgt:t2/c2__P17        0\n",
       "tgt:t2/c2__P18        0\n",
       "tgt:t2/c2__P19        0\n",
       "tgt:t2/c2__P20        0\n",
       "tgt:t2/c2__P21        0\n",
       "tgt:t2/c2__P22        0\n",
       "tgt:t2/c2__P23        0\n",
       "tgt:t2/c2__P24        0\n",
       "tgt:t2/c2__P25        0\n",
       "tgt:t2/c2__P26        0\n",
       "tgt:t2/c2__P27        0\n",
       "tgt:t2/c2__P28        0\n",
       "tgt:t2/c2__P29        0\n",
       "tgt:t2/c2__nan        1\n",
       "Name: 3, dtype: int64"
      ]
     },
     "execution_count": 112,
     "metadata": {},
     "output_type": "execute_result"
    }
   ],
   "source": [
    "encoded_df = pd.read_parquet(ws / \"OriginalData/encoded-data\")\n",
    "encoded_df[encoded_df[\"tgt:t2/c2__nan\"] == 1].iloc[0]"
   ]
  },
  {
   "cell_type": "code",
   "execution_count": 98,
   "metadata": {},
   "outputs": [
    {
     "name": "stdout",
     "output_type": "stream",
     "text": [
      "[2025-10-10 13:12:51,526] INFO   : TRAIN_TABULAR started\n",
      "[2025-10-10 13:12:51,532] INFO   : numpy=2.2.6, pandas=2.2.3\n",
      "[2025-10-10 13:12:51,534] INFO   : torch=2.7.0, opacus=1.5.4\n",
      "[2025-10-10 13:12:51,535] INFO   : device=device(type='cpu')\n",
      "[2025-10-10 13:12:51,535] INFO   : is_sequential=False\n",
      "[2025-10-10 13:12:51,535] INFO   : max_training_time=864000.0s\n",
      "[2025-10-10 13:12:51,536] INFO   : max_epochs=100.0 -> max_epochs=10 due to small sample size\n",
      "[2025-10-10 13:12:51,536] INFO   : model_size=<ModelSize.M: 'M'>\n",
      "[2025-10-10 13:12:51,536] INFO   : enable_flexible_generation=True\n",
      "[2025-10-10 13:12:51,536] INFO   : with_dp=False\n",
      "[2025-10-10 13:12:51,537] INFO   : model_state_strategy=<ModelStateStrategy.reset: 'RESET'>\n",
      "[2025-10-10 13:12:51,538] INFO   : max_sequence_window=np.int64(1)\n",
      "[2025-10-10 13:12:51,538] INFO   : create training model\n",
      "[2025-10-10 13:12:51,544] INFO   : model class: FlatModel\n",
      "[2025-10-10 13:12:51,544] INFO   : model_state_strategy=<ModelStateStrategy.reset: 'RESET'>\n",
      "[2025-10-10 13:12:51,544] INFO   : remove existing checkpoint files\n",
      "[2025-10-10 13:12:51,545] INFO   : start training progress from epoch=0.0, steps=0\n",
      "[2025-10-10 13:12:51,547] INFO   : no_of_model_params=np.int64(94405)\n",
      "[2025-10-10 13:12:52,128] INFO   : trn_cnt=400, val_cnt=100\n",
      "[2025-10-10 13:12:52,129] INFO   : len(tgt_sub_columns)=34, len(ctxflt_sub_columns)=0, len(ctxseq_sub_columns)=0\n",
      "[2025-10-10 13:12:52,130] INFO   : tgt_cardinalities_deciles=[np.int64(1), np.int64(1), np.int64(1), np.int64(1), np.int64(2), np.int64(4), np.int64(4), np.int64(4), np.int64(4), np.int64(4), np.int64(93)]\n",
      "[2025-10-10 13:12:52,131] INFO   : trn_batch_size=8, val_batch_size=8\n",
      "[2025-10-10 13:12:52,131] INFO   : trn_steps=50, val_steps=12\n",
      "[2025-10-10 13:12:52,131] INFO   : batch_size=8, gradient_accumulation_steps=1, initial_lr=np.float64(0.0005)\n",
      "[2025-10-10 13:12:52,162] INFO   : {'epoch': 0.02, 'is_checkpoint': 0, 'steps': 1, 'samples': 8, 'trn_loss': 31.4197, 'val_loss': None, 'total_time': 0.0, 'learn_rate': 0.0005, 'dp_eps': None, 'dp_delta': None}\n",
      "[2025-10-10 13:12:52,975] INFO   : {'epoch': 1.0, 'is_checkpoint': 1, 'steps': 50, 'samples': 400, 'trn_loss': 28.6759, 'val_loss': 26.2535, 'total_time': 0.8, 'learn_rate': 0.0005, 'dp_eps': None, 'dp_delta': None}\n",
      "[2025-10-10 13:12:53,780] INFO   : {'epoch': 2.0, 'is_checkpoint': 1, 'steps': 100, 'samples': 800, 'trn_loss': 24.6584, 'val_loss': 23.188, 'total_time': 1.6, 'learn_rate': 0.0005, 'dp_eps': None, 'dp_delta': None}\n",
      "[2025-10-10 13:12:54,584] INFO   : {'epoch': 3.0, 'is_checkpoint': 1, 'steps': 150, 'samples': 1200, 'trn_loss': 22.4035, 'val_loss': 21.5623, 'total_time': 2.5, 'learn_rate': 0.0005, 'dp_eps': None, 'dp_delta': None}\n",
      "[2025-10-10 13:12:55,368] INFO   : {'epoch': 4.0, 'is_checkpoint': 1, 'steps': 200, 'samples': 1600, 'trn_loss': 21.2038, 'val_loss': 20.4578, 'total_time': 3.2, 'learn_rate': 0.0005, 'dp_eps': None, 'dp_delta': None}\n",
      "[2025-10-10 13:12:56,174] INFO   : {'epoch': 5.0, 'is_checkpoint': 1, 'steps': 250, 'samples': 2000, 'trn_loss': 20.3702, 'val_loss': 20.1655, 'total_time': 4.0, 'learn_rate': 0.0005, 'dp_eps': None, 'dp_delta': None}\n",
      "[2025-10-10 13:12:56,967] INFO   : {'epoch': 6.0, 'is_checkpoint': 1, 'steps': 300, 'samples': 2400, 'trn_loss': 19.8487, 'val_loss': 19.8501, 'total_time': 4.8, 'learn_rate': 0.0005, 'dp_eps': None, 'dp_delta': None}\n",
      "[2025-10-10 13:12:57,764] INFO   : {'epoch': 7.0, 'is_checkpoint': 1, 'steps': 350, 'samples': 2800, 'trn_loss': 19.5594, 'val_loss': 19.2509, 'total_time': 5.6, 'learn_rate': 0.0005, 'dp_eps': None, 'dp_delta': None}\n",
      "[2025-10-10 13:12:58,604] INFO   : {'epoch': 8.0, 'is_checkpoint': 1, 'steps': 400, 'samples': 3200, 'trn_loss': 18.9889, 'val_loss': 18.9622, 'total_time': 6.5, 'learn_rate': 0.0005, 'dp_eps': None, 'dp_delta': None}\n",
      "[2025-10-10 13:12:59,412] INFO   : {'epoch': 9.0, 'is_checkpoint': 1, 'steps': 450, 'samples': 3600, 'trn_loss': 18.6567, 'val_loss': 18.659, 'total_time': 7.3, 'learn_rate': 0.0005, 'dp_eps': None, 'dp_delta': None}\n",
      "[2025-10-10 13:13:00,236] INFO   : {'epoch': 10.0, 'is_checkpoint': 1, 'steps': 500, 'samples': 4000, 'trn_loss': 18.4083, 'val_loss': 18.56, 'total_time': 8.1, 'learn_rate': 0.0005, 'dp_eps': None, 'dp_delta': None}\n",
      "[2025-10-10 13:13:00,251] INFO   : TRAIN_TABULAR finished in 8.72s\n",
      "[2025-10-10 13:13:00,945] INFO   : GENERATE_TABULAR started\n",
      "[2025-10-10 13:13:00,946] INFO   : clean `ws-initonly-airbnbF/SyntheticData`\n",
      "[2025-10-10 13:13:00,947] INFO   : is_sequential=False\n",
      "[2025-10-10 13:13:00,948] INFO   : has_context=False\n",
      "[2025-10-10 13:13:00,948] INFO   : enable_flexible_generation=True\n",
      "[2025-10-10 13:13:00,948] INFO   : len(tgt_sub_columns)=34\n",
      "[2025-10-10 13:13:00,948] INFO   : len(ctx_sub_columns)=0\n",
      "[2025-10-10 13:13:00,949] INFO   : device=device(type='cpu')\n",
      "[2025-10-10 13:13:00,949] INFO   : tgt_primary_key=None, tgt_context_key=None, ctx_primary_key=None\n",
      "[2025-10-10 13:13:00,949] INFO   : imputation: None\n",
      "[2025-10-10 13:13:00,949] INFO   : rebalancing: None\n",
      "[2025-10-10 13:13:00,950] INFO   : fairness: None\n",
      "[2025-10-10 13:13:00,950] INFO   : seed_data: None\n",
      "[2025-10-10 13:13:00,950] INFO   : gen_column_order=['tgt:t0/c0', 'tgt:t1/c1', 'tgt:t2/c2']\n",
      "[2025-10-10 13:13:00,950] INFO   : rare_category_replacement_method=<RareCategoryReplacementMethod.constant: 'CONSTANT'>\n",
      "[2025-10-10 13:13:00,950] INFO   : imputation: []\n",
      "[2025-10-10 13:13:00,951] INFO   : rebalance_column: None\n",
      "[2025-10-10 13:13:00,951] INFO   : rebalance_probabilities: {}\n",
      "[2025-10-10 13:13:00,951] INFO   : sampling_temperature=1.0, sampling_top_p=1.0\n",
      "[2025-10-10 13:13:00,952] INFO   : batch_size heuristic: 100,000 (mem_available_gb=9.0GB, sample_kb=0.7KB, scaling_factor=0.1)\n",
      "[2025-10-10 13:13:00,953] INFO   : sample_size=500\n",
      "[2025-10-10 13:13:00,953] INFO   : list(seed_data.columns)=['__dummy_context_key']\n",
      "[2025-10-10 13:13:00,953] INFO   : batch_size=500\n",
      "[2025-10-10 13:13:00,953] INFO   : no_of_batches=1\n",
      "[2025-10-10 13:13:00,953] INFO   : create generative model\n",
      "[2025-10-10 13:13:00,962] INFO   : no_of_model_params=np.int64(94405)\n",
      "[2025-10-10 13:13:00,976] INFO   : loaded model weights in 0.01s\n",
      "[2025-10-10 13:13:00,978] INFO   : generate 1 batches\n",
      "[2025-10-10 13:13:00,979] INFO   : encode context (500, 1)\n",
      "[2025-10-10 13:13:00,980] INFO   : encode seed data values (500, 1)\n",
      "[2025-10-10 13:13:00,980] INFO   : sample data from model with context (500, 1)\n",
      "[2025-10-10 13:13:00,995] INFO   : decode generated data (500, 35)\n",
      "[2025-10-10 13:13:01,028] INFO   : post-process generated data (500, 4)\n",
      "[2025-10-10 13:13:01,030] INFO   : persisted (500, 3) to `part.000000.000000.parquet` in 0.00s\n",
      "[2025-10-10 13:13:01,031] INFO   : GENERATE_TABULAR finished in 0.08s\n"
     ]
    }
   ],
   "source": [
    "engine.train(workspace_dir=ws, weight_initialization=False)        # train model and store to `{ws}/ModelData/model-data`\n",
    "engine.generate(workspace_dir=ws)     # use model to generate synthetic samples to `{ws}/SyntheticData`"
   ]
  },
  {
   "cell_type": "code",
   "execution_count": 92,
   "metadata": {},
   "outputs": [
    {
     "ename": "KeyError",
     "evalue": "\"['room_type', 'price', 'minimum_nights', 'number_of_reviews', 'last_review', 'reviews_per_month', 'availability_365', 'latitude', 'longitude'] not in index\"",
     "output_type": "error",
     "traceback": [
      "\u001b[31m---------------------------------------------------------------------------\u001b[39m",
      "\u001b[31mKeyError\u001b[39m                                  Traceback (most recent call last)",
      "\u001b[36mCell\u001b[39m\u001b[36m \u001b[39m\u001b[32mIn[92]\u001b[39m\u001b[32m, line 15\u001b[39m\n\u001b[32m     12\u001b[39m syn = pd.read_parquet(\u001b[33mf\u001b[39m\u001b[33m\"\u001b[39m\u001b[38;5;132;01m{\u001b[39;00mws\u001b[38;5;132;01m}\u001b[39;00m\u001b[33m/SyntheticData\u001b[39m\u001b[33m\"\u001b[39m)\n\u001b[32m     14\u001b[39m \u001b[38;5;66;03m# calculate metrics\u001b[39;00m\n\u001b[32m---> \u001b[39m\u001b[32m15\u001b[39m report_path, metrics = \u001b[43mqa\u001b[49m\u001b[43m.\u001b[49m\u001b[43mreport\u001b[49m\u001b[43m(\u001b[49m\n\u001b[32m     16\u001b[39m \u001b[43m    \u001b[49m\u001b[43msyn_tgt_data\u001b[49m\u001b[43m=\u001b[49m\u001b[43msyn\u001b[49m\u001b[43m,\u001b[49m\n\u001b[32m     17\u001b[39m \u001b[43m    \u001b[49m\u001b[43mtrn_tgt_data\u001b[49m\u001b[43m=\u001b[49m\u001b[43mtrn_df\u001b[49m\u001b[43m,\u001b[49m\n\u001b[32m     18\u001b[39m \u001b[43m    \u001b[49m\u001b[43mreport_path\u001b[49m\u001b[43m=\u001b[49m\u001b[33;43mf\u001b[39;49m\u001b[33;43m\"\u001b[39;49m\u001b[33;43mmodel-report-\u001b[39;49m\u001b[38;5;132;43;01m{\u001b[39;49;00m\u001b[43mws\u001b[49m\u001b[38;5;132;43;01m}\u001b[39;49;00m\u001b[33;43m.html\u001b[39;49m\u001b[33;43m\"\u001b[39;49m\n\u001b[32m     19\u001b[39m \u001b[43m\u001b[49m\u001b[43m)\u001b[49m\n\u001b[32m     21\u001b[39m \u001b[38;5;66;03m# pretty print metrics\u001b[39;00m\n\u001b[32m     22\u001b[39m \u001b[38;5;28mprint\u001b[39m(report_path)\n",
      "\u001b[36mFile \u001b[39m\u001b[32m~/code/mostlyai-engine/.venv/lib/python3.11/site-packages/mostlyai/qa/reporting.py:143\u001b[39m, in \u001b[36mreport\u001b[39m\u001b[34m(syn_tgt_data, trn_tgt_data, hol_tgt_data, syn_ctx_data, trn_ctx_data, hol_ctx_data, ctx_primary_key, tgt_context_key, report_path, report_title, report_subtitle, report_credits, max_sample_size_accuracy, max_sample_size_coherence, max_sample_size_embeddings, statistics_path, update_progress)\u001b[39m\n\u001b[32m    136\u001b[39m         \u001b[38;5;28;01mraise\u001b[39;00m \u001b[38;5;167;01mValueError\u001b[39;00m(\u001b[33m\"\u001b[39m\u001b[33mIf syn_ctx_data is provided, then hol_ctx_data must also be provided.\u001b[39m\u001b[33m\"\u001b[39m)\n\u001b[32m    138\u001b[39m \u001b[38;5;28;01mwith\u001b[39;00m (\n\u001b[32m    139\u001b[39m     TemporaryWorkspace() \u001b[38;5;28;01mas\u001b[39;00m workspace,\n\u001b[32m    140\u001b[39m     ProgressCallbackWrapper(update_progress) \u001b[38;5;28;01mas\u001b[39;00m progress,\n\u001b[32m    141\u001b[39m ):\n\u001b[32m    142\u001b[39m     \u001b[38;5;66;03m# ensure all columns are present and in the same order as training data\u001b[39;00m\n\u001b[32m--> \u001b[39m\u001b[32m143\u001b[39m     syn_tgt_data = \u001b[43msyn_tgt_data\u001b[49m\u001b[43m[\u001b[49m\u001b[43mtrn_tgt_data\u001b[49m\u001b[43m.\u001b[49m\u001b[43mcolumns\u001b[49m\u001b[43m]\u001b[49m\n\u001b[32m    144\u001b[39m     \u001b[38;5;28;01mif\u001b[39;00m hol_tgt_data \u001b[38;5;129;01mis\u001b[39;00m \u001b[38;5;129;01mnot\u001b[39;00m \u001b[38;5;28;01mNone\u001b[39;00m:\n\u001b[32m    145\u001b[39m         hol_tgt_data = hol_tgt_data[trn_tgt_data.columns]\n",
      "\u001b[36mFile \u001b[39m\u001b[32m~/code/mostlyai-engine/.venv/lib/python3.11/site-packages/pandas/core/frame.py:4108\u001b[39m, in \u001b[36mDataFrame.__getitem__\u001b[39m\u001b[34m(self, key)\u001b[39m\n\u001b[32m   4106\u001b[39m     \u001b[38;5;28;01mif\u001b[39;00m is_iterator(key):\n\u001b[32m   4107\u001b[39m         key = \u001b[38;5;28mlist\u001b[39m(key)\n\u001b[32m-> \u001b[39m\u001b[32m4108\u001b[39m     indexer = \u001b[38;5;28;43mself\u001b[39;49m\u001b[43m.\u001b[49m\u001b[43mcolumns\u001b[49m\u001b[43m.\u001b[49m\u001b[43m_get_indexer_strict\u001b[49m\u001b[43m(\u001b[49m\u001b[43mkey\u001b[49m\u001b[43m,\u001b[49m\u001b[43m \u001b[49m\u001b[33;43m\"\u001b[39;49m\u001b[33;43mcolumns\u001b[39;49m\u001b[33;43m\"\u001b[39;49m\u001b[43m)\u001b[49m[\u001b[32m1\u001b[39m]\n\u001b[32m   4110\u001b[39m \u001b[38;5;66;03m# take() does not accept boolean indexers\u001b[39;00m\n\u001b[32m   4111\u001b[39m \u001b[38;5;28;01mif\u001b[39;00m \u001b[38;5;28mgetattr\u001b[39m(indexer, \u001b[33m\"\u001b[39m\u001b[33mdtype\u001b[39m\u001b[33m\"\u001b[39m, \u001b[38;5;28;01mNone\u001b[39;00m) == \u001b[38;5;28mbool\u001b[39m:\n",
      "\u001b[36mFile \u001b[39m\u001b[32m~/code/mostlyai-engine/.venv/lib/python3.11/site-packages/pandas/core/indexes/base.py:6200\u001b[39m, in \u001b[36mIndex._get_indexer_strict\u001b[39m\u001b[34m(self, key, axis_name)\u001b[39m\n\u001b[32m   6197\u001b[39m \u001b[38;5;28;01melse\u001b[39;00m:\n\u001b[32m   6198\u001b[39m     keyarr, indexer, new_indexer = \u001b[38;5;28mself\u001b[39m._reindex_non_unique(keyarr)\n\u001b[32m-> \u001b[39m\u001b[32m6200\u001b[39m \u001b[38;5;28;43mself\u001b[39;49m\u001b[43m.\u001b[49m\u001b[43m_raise_if_missing\u001b[49m\u001b[43m(\u001b[49m\u001b[43mkeyarr\u001b[49m\u001b[43m,\u001b[49m\u001b[43m \u001b[49m\u001b[43mindexer\u001b[49m\u001b[43m,\u001b[49m\u001b[43m \u001b[49m\u001b[43maxis_name\u001b[49m\u001b[43m)\u001b[49m\n\u001b[32m   6202\u001b[39m keyarr = \u001b[38;5;28mself\u001b[39m.take(indexer)\n\u001b[32m   6203\u001b[39m \u001b[38;5;28;01mif\u001b[39;00m \u001b[38;5;28misinstance\u001b[39m(key, Index):\n\u001b[32m   6204\u001b[39m     \u001b[38;5;66;03m# GH 42790 - Preserve name from an Index\u001b[39;00m\n",
      "\u001b[36mFile \u001b[39m\u001b[32m~/code/mostlyai-engine/.venv/lib/python3.11/site-packages/pandas/core/indexes/base.py:6252\u001b[39m, in \u001b[36mIndex._raise_if_missing\u001b[39m\u001b[34m(self, key, indexer, axis_name)\u001b[39m\n\u001b[32m   6249\u001b[39m     \u001b[38;5;28;01mraise\u001b[39;00m \u001b[38;5;167;01mKeyError\u001b[39;00m(\u001b[33mf\u001b[39m\u001b[33m\"\u001b[39m\u001b[33mNone of [\u001b[39m\u001b[38;5;132;01m{\u001b[39;00mkey\u001b[38;5;132;01m}\u001b[39;00m\u001b[33m] are in the [\u001b[39m\u001b[38;5;132;01m{\u001b[39;00maxis_name\u001b[38;5;132;01m}\u001b[39;00m\u001b[33m]\u001b[39m\u001b[33m\"\u001b[39m)\n\u001b[32m   6251\u001b[39m not_found = \u001b[38;5;28mlist\u001b[39m(ensure_index(key)[missing_mask.nonzero()[\u001b[32m0\u001b[39m]].unique())\n\u001b[32m-> \u001b[39m\u001b[32m6252\u001b[39m \u001b[38;5;28;01mraise\u001b[39;00m \u001b[38;5;167;01mKeyError\u001b[39;00m(\u001b[33mf\u001b[39m\u001b[33m\"\u001b[39m\u001b[38;5;132;01m{\u001b[39;00mnot_found\u001b[38;5;132;01m}\u001b[39;00m\u001b[33m not in index\u001b[39m\u001b[33m\"\u001b[39m)\n",
      "\u001b[31mKeyError\u001b[39m: \"['room_type', 'price', 'minimum_nights', 'number_of_reviews', 'last_review', 'reviews_per_month', 'availability_365', 'latitude', 'longitude'] not in index\""
     ]
    }
   ],
   "source": [
    "import webbrowser\n",
    "\n",
    "import pandas as pd\n",
    "\n",
    "from mostlyai import qa\n",
    "\n",
    "WS_T = \"ws-initonly-airbnbT\"\n",
    "WS_F = \"ws-initonly-airbnbF\"\n",
    "WORKSPACES = [WS_F]\n",
    "\n",
    "for ws in WORKSPACES:\n",
    "    syn = pd.read_parquet(f\"{ws}/SyntheticData\")\n",
    "\n",
    "    # calculate metrics\n",
    "    report_path, metrics = qa.report(\n",
    "        syn_tgt_data=syn,\n",
    "        trn_tgt_data=trn_df,\n",
    "        report_path=f\"model-report-{ws}.html\"\n",
    "    )\n",
    "\n",
    "    # pretty print metrics\n",
    "    print(report_path)\n",
    "    print(f\"{ws}:{metrics.model_dump_json(indent=4)}\")\n",
    "    # open up HTML report in new browser window\n",
    "    webbrowser.open(f\"file://{report_path.absolute()}\")"
   ]
  },
  {
   "cell_type": "code",
   "execution_count": 99,
   "metadata": {},
   "outputs": [
    {
     "data": {
      "text/html": [
       "<div>\n",
       "<style scoped>\n",
       "    .dataframe tbody tr th:only-of-type {\n",
       "        vertical-align: middle;\n",
       "    }\n",
       "\n",
       "    .dataframe tbody tr th {\n",
       "        vertical-align: top;\n",
       "    }\n",
       "\n",
       "    .dataframe thead th {\n",
       "        text-align: right;\n",
       "    }\n",
       "</style>\n",
       "<table border=\"1\" class=\"dataframe\">\n",
       "  <thead>\n",
       "    <tr style=\"text-align: right;\">\n",
       "      <th></th>\n",
       "      <th>neighbourhood_group</th>\n",
       "      <th>neighbourhood</th>\n",
       "      <th>LAT_LONG</th>\n",
       "    </tr>\n",
       "  </thead>\n",
       "  <tbody>\n",
       "    <tr>\n",
       "      <th>0</th>\n",
       "      <td>Manhattan</td>\n",
       "      <td>Kew Gardens</td>\n",
       "      <td>0.01282, 0.00394</td>\n",
       "    </tr>\n",
       "    <tr>\n",
       "      <th>1</th>\n",
       "      <td>Manhattan</td>\n",
       "      <td>Stuyvesant Town</td>\n",
       "      <td>0.04693, -0.00112</td>\n",
       "    </tr>\n",
       "    <tr>\n",
       "      <th>2</th>\n",
       "      <td>Manhattan</td>\n",
       "      <td>Maspeth</td>\n",
       "      <td>0.04405, -0.04037</td>\n",
       "    </tr>\n",
       "    <tr>\n",
       "      <th>3</th>\n",
       "      <td>Staten Island</td>\n",
       "      <td>Ridgewood</td>\n",
       "      <td>0.00408, -0.07824</td>\n",
       "    </tr>\n",
       "    <tr>\n",
       "      <th>4</th>\n",
       "      <td>Manhattan</td>\n",
       "      <td>Fresh Meadows</td>\n",
       "      <td>None</td>\n",
       "    </tr>\n",
       "  </tbody>\n",
       "</table>\n",
       "</div>"
      ],
      "text/plain": [
       "  neighbourhood_group    neighbourhood           LAT_LONG\n",
       "0           Manhattan      Kew Gardens   0.01282, 0.00394\n",
       "1           Manhattan  Stuyvesant Town  0.04693, -0.00112\n",
       "2           Manhattan          Maspeth  0.04405, -0.04037\n",
       "3       Staten Island        Ridgewood  0.00408, -0.07824\n",
       "4           Manhattan    Fresh Meadows               None"
      ]
     },
     "execution_count": 99,
     "metadata": {},
     "output_type": "execute_result"
    }
   ],
   "source": [
    "# load synthetic data\n",
    "syn_df = pd.read_parquet(ws / \"SyntheticData\")\n",
    "syn_df.head(5)"
   ]
  },
  {
   "cell_type": "code",
   "execution_count": 100,
   "metadata": {},
   "outputs": [
    {
     "data": {
      "image/png": "[encoded data removed]",
      "text/plain": [
       "<Figure size 640x480 with 1 Axes>"
      ]
     },
     "metadata": {},
     "output_type": "display_data"
    },
    {
     "data": {
      "image/png": "[encoded data removed]",
      "text/plain": [
       "<Figure size 640x480 with 1 Axes>"
      ]
     },
     "metadata": {},
     "output_type": "display_data"
    }
   ],
   "source": [
    "import matplotlib.pyplot as plt\n",
    "def plot_manhattan(df, title):\n",
    "    ax = df.plot.scatter(\n",
    "        x=\"longitude\",\n",
    "        y=\"latitude\",\n",
    "        s=0.1,\n",
    "        alpha=1,\n",
    "        cmap=plt.colormaps[\"YlOrRd\"],\n",
    "    )\n",
    "    # ax.set_aspect(1.3)\n",
    "    ax.set_title(title)\n",
    "    # ax.axis(\"equal\")\n",
    "    # ax.set_xlim(-74.3, -73.7)\n",
    "    # ax.set_ylim(40.4, 40.95)\n",
    "\n",
    "syn_df[\"latitude\"] = syn_df[\"LAT_LONG\"].apply(lambda x: float(x.split(\",\")[0]) if x is not None else None)\n",
    "syn_df[\"longitude\"] = syn_df[\"LAT_LONG\"].apply(lambda x: float(x.split(\",\")[1]) if x is not None else None)\n",
    "plot_manhattan(syn_df, \"Partially Synthetic Data\")\n",
    "plot_manhattan(trn_df, \"Training Data\")"
   ]
  },
  {
   "cell_type": "code",
   "execution_count": null,
   "metadata": {},
   "outputs": [],
   "source": []
  },
  {
   "cell_type": "code",
   "execution_count": 101,
   "metadata": {},
   "outputs": [
    {
     "data": {
      "text/plain": [
       "(np.float64(-0.31259), np.float64(0.20736))"
      ]
     },
     "execution_count": 101,
     "metadata": {},
     "output_type": "execute_result"
    }
   ],
   "source": [
    "syn_df.latitude.min(), syn_df.latitude.max()"
   ]
  },
  {
   "cell_type": "code",
   "execution_count": 102,
   "metadata": {},
   "outputs": [
    {
     "data": {
      "text/plain": [
       "(np.float64(-0.16643888066263912), np.float64(0.16534111933735574))"
      ]
     },
     "execution_count": 102,
     "metadata": {},
     "output_type": "execute_result"
    }
   ],
   "source": [
    "trn_df.latitude.min(), trn_df.latitude.max()"
   ]
  },
  {
   "cell_type": "markdown",
   "metadata": {},
   "source": [
    "### QUALITY ASSURANCE"
   ]
  },
  {
   "cell_type": "markdown",
   "metadata": {
    "tags": []
   },
   "source": [
    "#### univariate `age`"
   ]
  },
  {
   "cell_type": "code",
   "execution_count": null,
   "metadata": {},
   "outputs": [],
   "source": [
    "print(\"Original Age:  \" + \", \".join([f'q{q*100:.0f}: {trn_df[\"age\"].quantile(q):.0f}' for q in [.1, .25, .5, .75, .9]]))\n",
    "print(\"Synthetic Age: \" + \", \".join([f'q{q*100:.0f}: {syn_df[\"age\"].quantile(q):.0f}' for q in [.1, .25, .5, .75, .9]]))\n",
    "#syn_df[\"age\"].quantile(np.linspace(0, 1, 11))"
   ]
  },
  {
   "cell_type": "markdown",
   "metadata": {},
   "source": [
    "#### bivariate `sex` ~ `income`: income gap"
   ]
  },
  {
   "cell_type": "code",
   "execution_count": null,
   "metadata": {},
   "outputs": [],
   "source": [
    "trn_gap = (trn_df[trn_df[\"sex\"] == \"Male\"][\"income\"] == \">50K\").mean() - (trn_df[trn_df[\"sex\"] == \"Female\"][\"income\"] == \">50K\").mean()\n",
    "syn_gap = (syn_df[syn_df[\"sex\"] == \"Male\"][\"income\"] == \">50K\").mean() - (syn_df[syn_df[\"sex\"] == \"Female\"][\"income\"] == \">50K\").mean()\n",
    "print(f\"Income Gap {trn_gap:.1%} vs. {syn_gap:.1%}\")"
   ]
  },
  {
   "cell_type": "markdown",
   "metadata": {},
   "source": [
    "#### check consistency between `education` and `education.num`"
   ]
  },
  {
   "cell_type": "code",
   "execution_count": null,
   "metadata": {},
   "outputs": [],
   "source": [
    "pd.crosstab(syn_df[\"education\"], syn_df[\"education_num\"])"
   ]
  }
 ],
 "metadata": {
  "kernelspec": {
   "display_name": "Python 3 (ipykernel)",
   "language": "python",
   "name": "python3"
  },
  "language_info": {
   "codemirror_mode": {
    "name": "ipython",
    "version": 3
   },
   "file_extension": ".py",
   "mimetype": "text/x-python",
   "name": "python",
   "nbconvert_exporter": "python",
   "pygments_lexer": "ipython3",
   "version": "3.11.7"
  },
  "toc": {
   "base_numbering": 1,
   "nav_menu": {},
   "number_sections": false,
   "sideBar": true,
   "skip_h1_title": false,
   "title_cell": "Table of Contents",
   "title_sidebar": "Contents",
   "toc_cell": false,
   "toc_position": {},
   "toc_section_display": true,
   "toc_window_display": false
  }
 },
 "nbformat": 4,
 "nbformat_minor": 4
}
