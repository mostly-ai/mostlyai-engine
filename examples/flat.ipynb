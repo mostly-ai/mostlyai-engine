{
 "cells": [
  {
   "cell_type": "markdown",
   "metadata": {
    "tags": []
   },
   "source": [
    "# Tabular Model: flat data, without context"
   ]
  },
  {
   "cell_type": "markdown",
   "metadata": {},
   "source": [
    "[![Open in Colab](https://colab.research.google.com/assets/colab-badge.svg)](https://colab.research.google.com/github/mostly-ai/mostlyai-engine/blob/main/examples/flat.ipynb)"
   ]
  },
  {
   "cell_type": "code",
   "execution_count": null,
   "metadata": {},
   "outputs": [],
   "source": [
    "from pathlib import Path\n",
    "import pandas as pd\n",
    "from mostlyai import engine\n",
    "\n",
    "# init workspace and logging\n",
    "ws = Path(\"ws-tabular-flat\")\n",
    "engine.init_logging()\n",
    "\n",
    "# load original data\n",
    "url = \"https://github.com/mostly-ai/public-demo-data/raw/refs/heads/dev/census\"\n",
    "trn_df = pd.read_csv(f\"{url}/census.csv.gz\")\n",
    "\n",
    "# execute the engine steps\n",
    "engine.split(                         # split data as PQT files for `trn` + `val` to `{ws}/OriginalData/tgt-data`\n",
    "  workspace_dir=ws,\n",
    "  tgt_data=trn_df,\n",
    "  model_type=\"TABULAR\",\n",
    ")\n",
    "engine.analyze(workspace_dir=ws)      # generate column-level statistics to `{ws}/ModelData/tgt-stats/stats.json`\n",
    "engine.encode(workspace_dir=ws)       # encode training data to `{ws}/OriginalData/encoded-data`\n",
    "engine.train(workspace_dir=ws)        # train model and store to `{ws}/ModelData/model-data`\n",
    "engine.generate(workspace_dir=ws)     # use model to generate synthetic samples to `{ws}/SyntheticData`"
   ]
  },
  {
   "cell_type": "code",
   "execution_count": null,
   "metadata": {},
   "outputs": [],
   "source": [
    "# load synthetic data\n",
    "syn_df = pd.read_parquet(ws / \"SyntheticData\")\n",
    "syn_df.head(5)"
   ]
  },
  {
   "cell_type": "markdown",
   "metadata": {},
   "source": [
    "### QUALITY ASSURANCE"
   ]
  },
  {
   "cell_type": "markdown",
   "metadata": {
    "tags": []
   },
   "source": [
    "#### univariate `age`"
   ]
  },
  {
   "cell_type": "code",
   "execution_count": null,
   "metadata": {},
   "outputs": [],
   "source": [
    "print(\"Original Age:  \" + \", \".join([f'q{q*100:.0f}: {trn_df[\"age\"].quantile(q):.0f}' for q in [.1, .25, .5, .75, .9]]))\n",
    "print(\"Synthetic Age: \" + \", \".join([f'q{q*100:.0f}: {syn_df[\"age\"].quantile(q):.0f}' for q in [.1, .25, .5, .75, .9]]))\n",
    "#syn_df[\"age\"].quantile(np.linspace(0, 1, 11))"
   ]
  },
  {
   "cell_type": "markdown",
   "metadata": {},
   "source": [
    "#### bivariate `sex` ~ `income`: income gap"
   ]
  },
  {
   "cell_type": "code",
   "execution_count": null,
   "metadata": {},
   "outputs": [],
   "source": [
    "trn_gap = (trn_df[trn_df[\"sex\"] == \"Male\"][\"income\"] == \">50K\").mean() - (trn_df[trn_df[\"sex\"] == \"Female\"][\"income\"] == \">50K\").mean()\n",
    "syn_gap = (syn_df[syn_df[\"sex\"] == \"Male\"][\"income\"] == \">50K\").mean() - (syn_df[syn_df[\"sex\"] == \"Female\"][\"income\"] == \">50K\").mean()\n",
    "print(f\"Income Gap {trn_gap:.1%} vs. {syn_gap:.1%}\")"
   ]
  },
  {
   "cell_type": "markdown",
   "metadata": {},
   "source": [
    "#### check consistency between `education` and `education.num`"
   ]
  },
  {
   "cell_type": "code",
   "execution_count": null,
   "metadata": {},
   "outputs": [],
   "source": [
    "pd.crosstab(syn_df[\"education\"], syn_df[\"education_num\"])"
   ]
  }
 ],
 "metadata": {
  "kernelspec": {
   "display_name": "Python 3 (ipykernel)",
   "language": "python",
   "name": "python3"
  },
  "language_info": {
   "codemirror_mode": {
    "name": "ipython",
    "version": 3
   },
   "file_extension": ".py",
   "mimetype": "text/x-python",
   "name": "python",
   "nbconvert_exporter": "python",
   "pygments_lexer": "ipython3",
   "version": "3.12.3"
  },
  "toc": {
   "base_numbering": 1,
   "nav_menu": {},
   "number_sections": false,
   "sideBar": true,
   "skip_h1_title": false,
   "title_cell": "Table of Contents",
   "title_sidebar": "Contents",
   "toc_cell": false,
   "toc_position": {},
   "toc_section_display": true,
   "toc_window_display": false
  }
 },
 "nbformat": 4,
 "nbformat_minor": 4
}
